{
 "cells": [
  {
   "cell_type": "code",
   "execution_count": 1,
   "outputs": [
    {
     "name": "stdout",
     "output_type": "stream",
     "text": [
      "                    event_timestamp  student  semester  is_done  credits\n",
      "0  2022-08-14 18:27:38.422804+00:00   822594         9     True      104\n",
      "1  2022-08-14 18:27:38.422804+00:00   822617         3    False       61\n",
      "2  2022-08-14 18:27:38.422804+00:00   822616         2    False       54\n",
      "3  2022-08-14 18:27:38.422804+00:00   822595         5    False       57\n",
      "4  2022-08-14 18:27:38.422804+00:00   822596         2    False       51\n",
      "5  2022-08-14 18:27:38.422804+00:00   822597         6     True      100\n",
      "6  2022-08-14 18:27:38.422804+00:00   822598         3    False       65\n",
      "7  2022-08-14 18:27:38.422804+00:00   822599         1    False       25\n",
      "8  2022-08-14 18:27:38.422804+00:00   822600         8    False       78\n",
      "9  2022-08-14 18:27:38.422804+00:00   822601         5    False       20\n",
      "10 2022-08-14 18:27:38.422804+00:00   822602         2    False       15\n",
      "11 2022-08-14 18:27:38.422804+00:00   822603         8     True       90\n",
      "12 2022-08-14 18:27:38.422804+00:00   822604         3    False       31\n",
      "13 2022-08-14 18:27:38.422804+00:00   822605         5    False        6\n",
      "14 2022-08-14 18:27:38.422804+00:00   822606         6     True       99\n",
      "15 2022-08-14 18:27:38.422804+00:00   822607         4    False       20\n",
      "16 2022-08-14 18:27:38.422804+00:00   822608         4    False       14\n",
      "17 2022-08-14 18:27:38.422804+00:00   822609         5    False       10\n",
      "18 2022-08-14 18:27:38.422804+00:00   822610         4    False        5\n",
      "19 2022-08-14 18:27:38.422804+00:00   822611         3    False       67\n",
      "20 2022-08-14 18:27:38.422804+00:00   822612         9    False       87\n",
      "21 2022-08-14 18:27:38.422804+00:00   822613         4    False        4\n",
      "22 2022-08-14 18:27:38.422804+00:00   822615         8     True      104\n",
      "23 2022-08-14 18:27:38.422804+00:00   822614         4    False       42\n",
      "24 2022-08-14 18:27:38.422804+00:00   822618         7     True      106\n"
     ]
    }
   ],
   "source": [
    "from feast import FeatureStore\n",
    "import pandas as pd\n",
    "\n",
    "store = FeatureStore(repo_path=\".\")\n",
    "customer_df = pd.read_parquet(\"/home/mauritz/PycharmProjects/feast-example/data/students.parquet\")\n",
    "\n",
    "training_df = store.get_historical_features(\n",
    "    entity_df=customer_df,\n",
    "    features=[\n",
    "        'student_semester_stats:semester',\n",
    "        'student_semester_stats:is_done',\n",
    "        'student_credits:credits'\n",
    "    ],\n",
    ").to_df()\n",
    "\n",
    "print(training_df.head(25))"
   ],
   "metadata": {
    "collapsed": false,
    "pycharm": {
     "name": "#%%\n"
    }
   }
  },
  {
   "cell_type": "code",
   "execution_count": 3,
   "outputs": [
    {
     "data": {
      "text/plain": "LinearRegression()",
      "text/html": "<style>#sk-container-id-1 {color: black;background-color: white;}#sk-container-id-1 pre{padding: 0;}#sk-container-id-1 div.sk-toggleable {background-color: white;}#sk-container-id-1 label.sk-toggleable__label {cursor: pointer;display: block;width: 100%;margin-bottom: 0;padding: 0.3em;box-sizing: border-box;text-align: center;}#sk-container-id-1 label.sk-toggleable__label-arrow:before {content: \"▸\";float: left;margin-right: 0.25em;color: #696969;}#sk-container-id-1 label.sk-toggleable__label-arrow:hover:before {color: black;}#sk-container-id-1 div.sk-estimator:hover label.sk-toggleable__label-arrow:before {color: black;}#sk-container-id-1 div.sk-toggleable__content {max-height: 0;max-width: 0;overflow: hidden;text-align: left;background-color: #f0f8ff;}#sk-container-id-1 div.sk-toggleable__content pre {margin: 0.2em;color: black;border-radius: 0.25em;background-color: #f0f8ff;}#sk-container-id-1 input.sk-toggleable__control:checked~div.sk-toggleable__content {max-height: 200px;max-width: 100%;overflow: auto;}#sk-container-id-1 input.sk-toggleable__control:checked~label.sk-toggleable__label-arrow:before {content: \"▾\";}#sk-container-id-1 div.sk-estimator input.sk-toggleable__control:checked~label.sk-toggleable__label {background-color: #d4ebff;}#sk-container-id-1 div.sk-label input.sk-toggleable__control:checked~label.sk-toggleable__label {background-color: #d4ebff;}#sk-container-id-1 input.sk-hidden--visually {border: 0;clip: rect(1px 1px 1px 1px);clip: rect(1px, 1px, 1px, 1px);height: 1px;margin: -1px;overflow: hidden;padding: 0;position: absolute;width: 1px;}#sk-container-id-1 div.sk-estimator {font-family: monospace;background-color: #f0f8ff;border: 1px dotted black;border-radius: 0.25em;box-sizing: border-box;margin-bottom: 0.5em;}#sk-container-id-1 div.sk-estimator:hover {background-color: #d4ebff;}#sk-container-id-1 div.sk-parallel-item::after {content: \"\";width: 100%;border-bottom: 1px solid gray;flex-grow: 1;}#sk-container-id-1 div.sk-label:hover label.sk-toggleable__label {background-color: #d4ebff;}#sk-container-id-1 div.sk-serial::before {content: \"\";position: absolute;border-left: 1px solid gray;box-sizing: border-box;top: 0;bottom: 0;left: 50%;z-index: 0;}#sk-container-id-1 div.sk-serial {display: flex;flex-direction: column;align-items: center;background-color: white;padding-right: 0.2em;padding-left: 0.2em;position: relative;}#sk-container-id-1 div.sk-item {position: relative;z-index: 1;}#sk-container-id-1 div.sk-parallel {display: flex;align-items: stretch;justify-content: center;background-color: white;position: relative;}#sk-container-id-1 div.sk-item::before, #sk-container-id-1 div.sk-parallel-item::before {content: \"\";position: absolute;border-left: 1px solid gray;box-sizing: border-box;top: 0;bottom: 0;left: 50%;z-index: -1;}#sk-container-id-1 div.sk-parallel-item {display: flex;flex-direction: column;z-index: 1;position: relative;background-color: white;}#sk-container-id-1 div.sk-parallel-item:first-child::after {align-self: flex-end;width: 50%;}#sk-container-id-1 div.sk-parallel-item:last-child::after {align-self: flex-start;width: 50%;}#sk-container-id-1 div.sk-parallel-item:only-child::after {width: 0;}#sk-container-id-1 div.sk-dashed-wrapped {border: 1px dashed gray;margin: 0 0.4em 0.5em 0.4em;box-sizing: border-box;padding-bottom: 0.4em;background-color: white;}#sk-container-id-1 div.sk-label label {font-family: monospace;font-weight: bold;display: inline-block;line-height: 1.2em;}#sk-container-id-1 div.sk-label-container {text-align: center;}#sk-container-id-1 div.sk-container {/* jupyter's `normalize.less` sets `[hidden] { display: none; }` but bootstrap.min.css set `[hidden] { display: none !important; }` so we also need the `!important` here to be able to override the default hidden behavior on the sphinx rendered scikit-learn.org. See: https://github.com/scikit-learn/scikit-learn/issues/21755 */display: inline-block !important;position: relative;}#sk-container-id-1 div.sk-text-repr-fallback {display: none;}</style><div id=\"sk-container-id-1\" class=\"sk-top-container\"><div class=\"sk-text-repr-fallback\"><pre>LinearRegression()</pre><b>In a Jupyter environment, please rerun this cell to show the HTML representation or trust the notebook. <br />On GitHub, the HTML representation is unable to render, please try loading this page with nbviewer.org.</b></div><div class=\"sk-container\" hidden><div class=\"sk-item\"><div class=\"sk-estimator sk-toggleable\"><input class=\"sk-toggleable__control sk-hidden--visually\" id=\"sk-estimator-id-1\" type=\"checkbox\" checked><label for=\"sk-estimator-id-1\" class=\"sk-toggleable__label sk-toggleable__label-arrow\">LinearRegression</label><div class=\"sk-toggleable__content\"><pre>LinearRegression()</pre></div></div></div></div></div>"
     },
     "execution_count": 3,
     "metadata": {},
     "output_type": "execute_result"
    }
   ],
   "source": [
    "from sklearn.linear_model import LinearRegression\n",
    "\n",
    "reg = LinearRegression()\n",
    "target = \"is_done\"\n",
    "\n",
    "train_X = training_df[[\"semester\", \"credits\"]]\n",
    "train_Y = training_df[[\"is_done\"]]\n",
    "\n",
    "reg.fit(train_X, train_Y)"
   ],
   "metadata": {
    "collapsed": false,
    "pycharm": {
     "name": "#%%\n"
    }
   }
  },
  {
   "cell_type": "code",
   "execution_count": 4,
   "outputs": [
    {
     "name": "stdout",
     "output_type": "stream",
     "text": [
      "   semester  credits\n",
      "0         9      104\n",
      "1         3       61\n",
      "2         2       54\n",
      "3         5       57\n"
     ]
    },
    {
     "data": {
      "text/plain": "array([[0.73414643],\n       [0.22227792],\n       [0.13818911],\n       [0.25841343]])"
     },
     "execution_count": 4,
     "metadata": {},
     "output_type": "execute_result"
    }
   ],
   "source": [
    "samples = train_X.iloc[:4]\n",
    "print(samples)\n",
    "\n",
    "reg.predict(samples)"
   ],
   "metadata": {
    "collapsed": false,
    "pycharm": {
     "name": "#%%\n"
    }
   }
  },
  {
   "cell_type": "code",
   "execution_count": 7,
   "outputs": [
    {
     "data": {
      "text/plain": "array([[0.99823063]])"
     },
     "execution_count": 7,
     "metadata": {},
     "output_type": "execute_result"
    }
   ],
   "source": [
    "df = pd.DataFrame.from_dict({\n",
    "    \"semester\": [9],\n",
    "    \"credits\": 140\n",
    "})\n",
    "reg.predict(df)"
   ],
   "metadata": {
    "collapsed": false,
    "pycharm": {
     "name": "#%%\n"
    }
   }
  },
  {
   "cell_type": "code",
   "execution_count": 17,
   "outputs": [],
   "source": [
    "# save model\n",
    "import pickle\n",
    "pickle.dump(reg, open(\"content/predict_student_is_done.sav\", 'wb'))"
   ],
   "metadata": {
    "collapsed": false,
    "pycharm": {
     "name": "#%%\n"
    }
   }
  }
 ],
 "metadata": {
  "kernelspec": {
   "display_name": "Python 3",
   "language": "python",
   "name": "python3"
  },
  "language_info": {
   "codemirror_mode": {
    "name": "ipython",
    "version": 2
   },
   "file_extension": ".py",
   "mimetype": "text/x-python",
   "name": "python",
   "nbconvert_exporter": "python",
   "pygments_lexer": "ipython2",
   "version": "2.7.6"
  }
 },
 "nbformat": 4,
 "nbformat_minor": 0
}