{
 "cells": [
  {
   "cell_type": "code",
   "execution_count": 17,
   "outputs": [
    {
     "data": {
      "text/plain": "             event_timestamp  user_id\n0 2022-08-14 14:59:13.147685        1\n1 2022-08-14 14:59:13.147685        2\n2 2022-08-14 14:59:13.147685        3\n3 2022-08-14 14:59:13.147685        4\n4 2022-08-14 14:59:13.147685        5\n5 2022-08-16 14:59:13.147685        1\n6 2022-08-16 14:59:13.147685        2\n7 2022-08-16 14:59:13.147685        3\n8 2022-08-16 14:59:13.147685        4\n9 2022-08-16 14:59:13.147685        5",
      "text/html": "<div>\n<style scoped>\n    .dataframe tbody tr th:only-of-type {\n        vertical-align: middle;\n    }\n\n    .dataframe tbody tr th {\n        vertical-align: top;\n    }\n\n    .dataframe thead th {\n        text-align: right;\n    }\n</style>\n<table border=\"1\" class=\"dataframe\">\n  <thead>\n    <tr style=\"text-align: right;\">\n      <th></th>\n      <th>event_timestamp</th>\n      <th>user_id</th>\n    </tr>\n  </thead>\n  <tbody>\n    <tr>\n      <th>0</th>\n      <td>2022-08-14 14:59:13.147685</td>\n      <td>1</td>\n    </tr>\n    <tr>\n      <th>1</th>\n      <td>2022-08-14 14:59:13.147685</td>\n      <td>2</td>\n    </tr>\n    <tr>\n      <th>2</th>\n      <td>2022-08-14 14:59:13.147685</td>\n      <td>3</td>\n    </tr>\n    <tr>\n      <th>3</th>\n      <td>2022-08-14 14:59:13.147685</td>\n      <td>4</td>\n    </tr>\n    <tr>\n      <th>4</th>\n      <td>2022-08-14 14:59:13.147685</td>\n      <td>5</td>\n    </tr>\n    <tr>\n      <th>5</th>\n      <td>2022-08-16 14:59:13.147685</td>\n      <td>1</td>\n    </tr>\n    <tr>\n      <th>6</th>\n      <td>2022-08-16 14:59:13.147685</td>\n      <td>2</td>\n    </tr>\n    <tr>\n      <th>7</th>\n      <td>2022-08-16 14:59:13.147685</td>\n      <td>3</td>\n    </tr>\n    <tr>\n      <th>8</th>\n      <td>2022-08-16 14:59:13.147685</td>\n      <td>4</td>\n    </tr>\n    <tr>\n      <th>9</th>\n      <td>2022-08-16 14:59:13.147685</td>\n      <td>5</td>\n    </tr>\n  </tbody>\n</table>\n</div>"
     },
     "execution_count": 17,
     "metadata": {},
     "output_type": "execute_result"
    }
   ],
   "source": [
    "import pandas as pd\n",
    "\n",
    "df = pd.read_parquet(path=\"data/customers.parquet\")\n",
    "df"
   ],
   "metadata": {
    "collapsed": false,
    "pycharm": {
     "name": "#%%\n"
    }
   }
  },
  {
   "cell_type": "code",
   "execution_count": 18,
   "outputs": [
    {
     "data": {
      "text/plain": "             event_timestamp          created_timestamp  students  semester  \\\n0 2022-08-13 15:20:33.130369 2022-08-14 15:20:33.130369    822594         9   \n1 2022-08-13 15:20:33.130369 2022-08-14 15:20:33.130369    822595         5   \n2 2022-08-13 15:20:33.130369 2022-08-14 15:20:33.130369    822596         8   \n3 2022-08-13 15:20:33.130369 2022-08-14 15:20:33.130369    822597         1   \n4 2022-08-13 15:20:33.130369 2022-08-14 15:20:33.130369    822598         1   \n\n   is_done  \n0     True  \n1    False  \n2     True  \n3    False  \n4    False  ",
      "text/html": "<div>\n<style scoped>\n    .dataframe tbody tr th:only-of-type {\n        vertical-align: middle;\n    }\n\n    .dataframe tbody tr th {\n        vertical-align: top;\n    }\n\n    .dataframe thead th {\n        text-align: right;\n    }\n</style>\n<table border=\"1\" class=\"dataframe\">\n  <thead>\n    <tr style=\"text-align: right;\">\n      <th></th>\n      <th>event_timestamp</th>\n      <th>created_timestamp</th>\n      <th>students</th>\n      <th>semester</th>\n      <th>is_done</th>\n    </tr>\n  </thead>\n  <tbody>\n    <tr>\n      <th>0</th>\n      <td>2022-08-13 15:20:33.130369</td>\n      <td>2022-08-14 15:20:33.130369</td>\n      <td>822594</td>\n      <td>9</td>\n      <td>True</td>\n    </tr>\n    <tr>\n      <th>1</th>\n      <td>2022-08-13 15:20:33.130369</td>\n      <td>2022-08-14 15:20:33.130369</td>\n      <td>822595</td>\n      <td>5</td>\n      <td>False</td>\n    </tr>\n    <tr>\n      <th>2</th>\n      <td>2022-08-13 15:20:33.130369</td>\n      <td>2022-08-14 15:20:33.130369</td>\n      <td>822596</td>\n      <td>8</td>\n      <td>True</td>\n    </tr>\n    <tr>\n      <th>3</th>\n      <td>2022-08-13 15:20:33.130369</td>\n      <td>2022-08-14 15:20:33.130369</td>\n      <td>822597</td>\n      <td>1</td>\n      <td>False</td>\n    </tr>\n    <tr>\n      <th>4</th>\n      <td>2022-08-13 15:20:33.130369</td>\n      <td>2022-08-14 15:20:33.130369</td>\n      <td>822598</td>\n      <td>1</td>\n      <td>False</td>\n    </tr>\n  </tbody>\n</table>\n</div>"
     },
     "execution_count": 18,
     "metadata": {},
     "output_type": "execute_result"
    }
   ],
   "source": [
    "import pandas as pd\n",
    "\n",
    "df = pd.read_parquet(path=\"data/semester.parquet\")\n",
    "df"
   ],
   "metadata": {
    "collapsed": false,
    "pycharm": {
     "name": "#%%\n"
    }
   }
  }
 ],
 "metadata": {
  "kernelspec": {
   "display_name": "Python 3",
   "language": "python",
   "name": "python3"
  },
  "language_info": {
   "codemirror_mode": {
    "name": "ipython",
    "version": 2
   },
   "file_extension": ".py",
   "mimetype": "text/x-python",
   "name": "python",
   "nbconvert_exporter": "python",
   "pygments_lexer": "ipython2",
   "version": "2.7.6"
  }
 },
 "nbformat": 4,
 "nbformat_minor": 0
}