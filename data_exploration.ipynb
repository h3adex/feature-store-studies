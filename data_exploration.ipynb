{
 "cells": [
  {
   "cell_type": "code",
   "execution_count": 8,
   "metadata": {
    "pycharm": {
     "name": "#%%\n"
    }
   },
   "outputs": [
    {
     "data": {
      "text/plain": "               event_timestamp  registration_number        student_name\n0   2022-08-17 17:23:16.605773               825594         Polly Tobin\n1   2022-08-17 17:23:16.605773               825595       Glen Mcdonald\n2   2022-08-17 17:23:16.605773               825596   William Dickerson\n3   2022-08-17 17:23:16.605773               825597         Mark Hebert\n4   2022-08-17 17:23:16.605773               825598       Brenda Melius\n..                         ...                  ...                 ...\n195 2022-08-19 17:23:16.605773               825689  Melissa Goodermote\n196 2022-08-19 17:23:16.605773               825690        Garry Walker\n197 2022-08-19 17:23:16.605773               825691      Vincent Alicea\n198 2022-08-19 17:23:16.605773               825692        James Carson\n199 2022-08-19 17:23:16.605773               825693     Sandra Schwartz\n\n[200 rows x 3 columns]",
      "text/html": "<div>\n<style scoped>\n    .dataframe tbody tr th:only-of-type {\n        vertical-align: middle;\n    }\n\n    .dataframe tbody tr th {\n        vertical-align: top;\n    }\n\n    .dataframe thead th {\n        text-align: right;\n    }\n</style>\n<table border=\"1\" class=\"dataframe\">\n  <thead>\n    <tr style=\"text-align: right;\">\n      <th></th>\n      <th>event_timestamp</th>\n      <th>registration_number</th>\n      <th>student_name</th>\n    </tr>\n  </thead>\n  <tbody>\n    <tr>\n      <th>0</th>\n      <td>2022-08-17 17:23:16.605773</td>\n      <td>825594</td>\n      <td>Polly Tobin</td>\n    </tr>\n    <tr>\n      <th>1</th>\n      <td>2022-08-17 17:23:16.605773</td>\n      <td>825595</td>\n      <td>Glen Mcdonald</td>\n    </tr>\n    <tr>\n      <th>2</th>\n      <td>2022-08-17 17:23:16.605773</td>\n      <td>825596</td>\n      <td>William Dickerson</td>\n    </tr>\n    <tr>\n      <th>3</th>\n      <td>2022-08-17 17:23:16.605773</td>\n      <td>825597</td>\n      <td>Mark Hebert</td>\n    </tr>\n    <tr>\n      <th>4</th>\n      <td>2022-08-17 17:23:16.605773</td>\n      <td>825598</td>\n      <td>Brenda Melius</td>\n    </tr>\n    <tr>\n      <th>...</th>\n      <td>...</td>\n      <td>...</td>\n      <td>...</td>\n    </tr>\n    <tr>\n      <th>195</th>\n      <td>2022-08-19 17:23:16.605773</td>\n      <td>825689</td>\n      <td>Melissa Goodermote</td>\n    </tr>\n    <tr>\n      <th>196</th>\n      <td>2022-08-19 17:23:16.605773</td>\n      <td>825690</td>\n      <td>Garry Walker</td>\n    </tr>\n    <tr>\n      <th>197</th>\n      <td>2022-08-19 17:23:16.605773</td>\n      <td>825691</td>\n      <td>Vincent Alicea</td>\n    </tr>\n    <tr>\n      <th>198</th>\n      <td>2022-08-19 17:23:16.605773</td>\n      <td>825692</td>\n      <td>James Carson</td>\n    </tr>\n    <tr>\n      <th>199</th>\n      <td>2022-08-19 17:23:16.605773</td>\n      <td>825693</td>\n      <td>Sandra Schwartz</td>\n    </tr>\n  </tbody>\n</table>\n<p>200 rows × 3 columns</p>\n</div>"
     },
     "execution_count": 8,
     "metadata": {},
     "output_type": "execute_result"
    }
   ],
   "source": [
    "import pandas as pd\n",
    "\n",
    "df = pd.read_parquet(path=\"data/students.parquet\")\n",
    "df"
   ]
  },
  {
   "cell_type": "code",
   "execution_count": 9,
   "metadata": {
    "pycharm": {
     "name": "#%%\n"
    }
   },
   "outputs": [
    {
     "data": {
      "text/plain": "              event_timestamp          created_timestamp  registration_number  \\\n0  2022-08-16 17:23:16.605773 2022-08-17 17:23:16.605773               825594   \n1  2022-08-16 17:23:16.605773 2022-08-17 17:23:16.605773               825595   \n2  2022-08-16 17:23:16.605773 2022-08-17 17:23:16.605773               825596   \n3  2022-08-16 17:23:16.605773 2022-08-17 17:23:16.605773               825597   \n4  2022-08-16 17:23:16.605773 2022-08-17 17:23:16.605773               825598   \n..                        ...                        ...                  ...   \n95 2022-08-16 17:23:16.605773 2022-08-17 17:23:16.605773               825689   \n96 2022-08-16 17:23:16.605773 2022-08-17 17:23:16.605773               825690   \n97 2022-08-16 17:23:16.605773 2022-08-17 17:23:16.605773               825691   \n98 2022-08-16 17:23:16.605773 2022-08-17 17:23:16.605773               825692   \n99 2022-08-16 17:23:16.605773 2022-08-17 17:23:16.605773               825693   \n\n    semester  graduated  \n0          9      False  \n1          1      False  \n2          9      False  \n3          4      False  \n4          9      False  \n..       ...        ...  \n95         5      False  \n96         9       True  \n97         3      False  \n98         7       True  \n99         5      False  \n\n[100 rows x 5 columns]",
      "text/html": "<div>\n<style scoped>\n    .dataframe tbody tr th:only-of-type {\n        vertical-align: middle;\n    }\n\n    .dataframe tbody tr th {\n        vertical-align: top;\n    }\n\n    .dataframe thead th {\n        text-align: right;\n    }\n</style>\n<table border=\"1\" class=\"dataframe\">\n  <thead>\n    <tr style=\"text-align: right;\">\n      <th></th>\n      <th>event_timestamp</th>\n      <th>created_timestamp</th>\n      <th>registration_number</th>\n      <th>semester</th>\n      <th>graduated</th>\n    </tr>\n  </thead>\n  <tbody>\n    <tr>\n      <th>0</th>\n      <td>2022-08-16 17:23:16.605773</td>\n      <td>2022-08-17 17:23:16.605773</td>\n      <td>825594</td>\n      <td>9</td>\n      <td>False</td>\n    </tr>\n    <tr>\n      <th>1</th>\n      <td>2022-08-16 17:23:16.605773</td>\n      <td>2022-08-17 17:23:16.605773</td>\n      <td>825595</td>\n      <td>1</td>\n      <td>False</td>\n    </tr>\n    <tr>\n      <th>2</th>\n      <td>2022-08-16 17:23:16.605773</td>\n      <td>2022-08-17 17:23:16.605773</td>\n      <td>825596</td>\n      <td>9</td>\n      <td>False</td>\n    </tr>\n    <tr>\n      <th>3</th>\n      <td>2022-08-16 17:23:16.605773</td>\n      <td>2022-08-17 17:23:16.605773</td>\n      <td>825597</td>\n      <td>4</td>\n      <td>False</td>\n    </tr>\n    <tr>\n      <th>4</th>\n      <td>2022-08-16 17:23:16.605773</td>\n      <td>2022-08-17 17:23:16.605773</td>\n      <td>825598</td>\n      <td>9</td>\n      <td>False</td>\n    </tr>\n    <tr>\n      <th>...</th>\n      <td>...</td>\n      <td>...</td>\n      <td>...</td>\n      <td>...</td>\n      <td>...</td>\n    </tr>\n    <tr>\n      <th>95</th>\n      <td>2022-08-16 17:23:16.605773</td>\n      <td>2022-08-17 17:23:16.605773</td>\n      <td>825689</td>\n      <td>5</td>\n      <td>False</td>\n    </tr>\n    <tr>\n      <th>96</th>\n      <td>2022-08-16 17:23:16.605773</td>\n      <td>2022-08-17 17:23:16.605773</td>\n      <td>825690</td>\n      <td>9</td>\n      <td>True</td>\n    </tr>\n    <tr>\n      <th>97</th>\n      <td>2022-08-16 17:23:16.605773</td>\n      <td>2022-08-17 17:23:16.605773</td>\n      <td>825691</td>\n      <td>3</td>\n      <td>False</td>\n    </tr>\n    <tr>\n      <th>98</th>\n      <td>2022-08-16 17:23:16.605773</td>\n      <td>2022-08-17 17:23:16.605773</td>\n      <td>825692</td>\n      <td>7</td>\n      <td>True</td>\n    </tr>\n    <tr>\n      <th>99</th>\n      <td>2022-08-16 17:23:16.605773</td>\n      <td>2022-08-17 17:23:16.605773</td>\n      <td>825693</td>\n      <td>5</td>\n      <td>False</td>\n    </tr>\n  </tbody>\n</table>\n<p>100 rows × 5 columns</p>\n</div>"
     },
     "execution_count": 9,
     "metadata": {},
     "output_type": "execute_result"
    }
   ],
   "source": [
    "import pandas as pd\n",
    "\n",
    "df = pd.read_parquet(path=\"data/semester.parquet\")\n",
    "df"
   ]
  },
  {
   "cell_type": "code",
   "execution_count": 10,
   "metadata": {
    "pycharm": {
     "name": "#%%\n"
    }
   },
   "outputs": [
    {
     "data": {
      "text/plain": "              event_timestamp          created_timestamp  registration_number  \\\n0  2022-08-16 17:23:16.605773 2022-08-17 17:23:16.605773               825594   \n1  2022-08-16 17:23:16.605773 2022-08-17 17:23:16.605773               825595   \n2  2022-08-16 17:23:16.605773 2022-08-17 17:23:16.605773               825596   \n3  2022-08-16 17:23:16.605773 2022-08-17 17:23:16.605773               825597   \n4  2022-08-16 17:23:16.605773 2022-08-17 17:23:16.605773               825598   \n..                        ...                        ...                  ...   \n95 2022-08-16 17:23:16.605773 2022-08-17 17:23:16.605773               825689   \n96 2022-08-16 17:23:16.605773 2022-08-17 17:23:16.605773               825690   \n97 2022-08-16 17:23:16.605773 2022-08-17 17:23:16.605773               825691   \n98 2022-08-16 17:23:16.605773 2022-08-17 17:23:16.605773               825692   \n99 2022-08-16 17:23:16.605773 2022-08-17 17:23:16.605773               825693   \n\n    credits  \n0        72  \n1        46  \n2        83  \n3        39  \n4        71  \n..      ...  \n95       67  \n96       99  \n97       20  \n98       95  \n99       40  \n\n[100 rows x 4 columns]",
      "text/html": "<div>\n<style scoped>\n    .dataframe tbody tr th:only-of-type {\n        vertical-align: middle;\n    }\n\n    .dataframe tbody tr th {\n        vertical-align: top;\n    }\n\n    .dataframe thead th {\n        text-align: right;\n    }\n</style>\n<table border=\"1\" class=\"dataframe\">\n  <thead>\n    <tr style=\"text-align: right;\">\n      <th></th>\n      <th>event_timestamp</th>\n      <th>created_timestamp</th>\n      <th>registration_number</th>\n      <th>credits</th>\n    </tr>\n  </thead>\n  <tbody>\n    <tr>\n      <th>0</th>\n      <td>2022-08-16 17:23:16.605773</td>\n      <td>2022-08-17 17:23:16.605773</td>\n      <td>825594</td>\n      <td>72</td>\n    </tr>\n    <tr>\n      <th>1</th>\n      <td>2022-08-16 17:23:16.605773</td>\n      <td>2022-08-17 17:23:16.605773</td>\n      <td>825595</td>\n      <td>46</td>\n    </tr>\n    <tr>\n      <th>2</th>\n      <td>2022-08-16 17:23:16.605773</td>\n      <td>2022-08-17 17:23:16.605773</td>\n      <td>825596</td>\n      <td>83</td>\n    </tr>\n    <tr>\n      <th>3</th>\n      <td>2022-08-16 17:23:16.605773</td>\n      <td>2022-08-17 17:23:16.605773</td>\n      <td>825597</td>\n      <td>39</td>\n    </tr>\n    <tr>\n      <th>4</th>\n      <td>2022-08-16 17:23:16.605773</td>\n      <td>2022-08-17 17:23:16.605773</td>\n      <td>825598</td>\n      <td>71</td>\n    </tr>\n    <tr>\n      <th>...</th>\n      <td>...</td>\n      <td>...</td>\n      <td>...</td>\n      <td>...</td>\n    </tr>\n    <tr>\n      <th>95</th>\n      <td>2022-08-16 17:23:16.605773</td>\n      <td>2022-08-17 17:23:16.605773</td>\n      <td>825689</td>\n      <td>67</td>\n    </tr>\n    <tr>\n      <th>96</th>\n      <td>2022-08-16 17:23:16.605773</td>\n      <td>2022-08-17 17:23:16.605773</td>\n      <td>825690</td>\n      <td>99</td>\n    </tr>\n    <tr>\n      <th>97</th>\n      <td>2022-08-16 17:23:16.605773</td>\n      <td>2022-08-17 17:23:16.605773</td>\n      <td>825691</td>\n      <td>20</td>\n    </tr>\n    <tr>\n      <th>98</th>\n      <td>2022-08-16 17:23:16.605773</td>\n      <td>2022-08-17 17:23:16.605773</td>\n      <td>825692</td>\n      <td>95</td>\n    </tr>\n    <tr>\n      <th>99</th>\n      <td>2022-08-16 17:23:16.605773</td>\n      <td>2022-08-17 17:23:16.605773</td>\n      <td>825693</td>\n      <td>40</td>\n    </tr>\n  </tbody>\n</table>\n<p>100 rows × 4 columns</p>\n</div>"
     },
     "execution_count": 10,
     "metadata": {},
     "output_type": "execute_result"
    }
   ],
   "source": [
    "import pandas as pd\n",
    "\n",
    "df = pd.read_parquet(path=\"data/credits.parquet\")\n",
    "df"
   ]
  }
 ],
 "metadata": {
  "kernelspec": {
   "display_name": "Python 3 (ipykernel)",
   "language": "python",
   "name": "python3"
  },
  "language_info": {
   "codemirror_mode": {
    "name": "ipython",
    "version": 3
   },
   "file_extension": ".py",
   "mimetype": "text/x-python",
   "name": "python",
   "nbconvert_exporter": "python",
   "pygments_lexer": "ipython3",
   "version": "3.10.4"
  }
 },
 "nbformat": 4,
 "nbformat_minor": 1
}