{
 "cells": [
  {
   "cell_type": "code",
   "execution_count": 3,
   "outputs": [
    {
     "data": {
      "text/plain": "               event_timestamp  student\n0   2022-08-14 18:27:38.422804   822594\n1   2022-08-14 18:27:38.422804   822595\n2   2022-08-14 18:27:38.422804   822596\n3   2022-08-14 18:27:38.422804   822597\n4   2022-08-14 18:27:38.422804   822598\n..                         ...      ...\n195 2022-08-16 18:27:38.422804   822689\n196 2022-08-16 18:27:38.422804   822690\n197 2022-08-16 18:27:38.422804   822691\n198 2022-08-16 18:27:38.422804   822692\n199 2022-08-16 18:27:38.422804   822693\n\n[200 rows x 2 columns]",
      "text/html": "<div>\n<style scoped>\n    .dataframe tbody tr th:only-of-type {\n        vertical-align: middle;\n    }\n\n    .dataframe tbody tr th {\n        vertical-align: top;\n    }\n\n    .dataframe thead th {\n        text-align: right;\n    }\n</style>\n<table border=\"1\" class=\"dataframe\">\n  <thead>\n    <tr style=\"text-align: right;\">\n      <th></th>\n      <th>event_timestamp</th>\n      <th>student</th>\n    </tr>\n  </thead>\n  <tbody>\n    <tr>\n      <th>0</th>\n      <td>2022-08-14 18:27:38.422804</td>\n      <td>822594</td>\n    </tr>\n    <tr>\n      <th>1</th>\n      <td>2022-08-14 18:27:38.422804</td>\n      <td>822595</td>\n    </tr>\n    <tr>\n      <th>2</th>\n      <td>2022-08-14 18:27:38.422804</td>\n      <td>822596</td>\n    </tr>\n    <tr>\n      <th>3</th>\n      <td>2022-08-14 18:27:38.422804</td>\n      <td>822597</td>\n    </tr>\n    <tr>\n      <th>4</th>\n      <td>2022-08-14 18:27:38.422804</td>\n      <td>822598</td>\n    </tr>\n    <tr>\n      <th>...</th>\n      <td>...</td>\n      <td>...</td>\n    </tr>\n    <tr>\n      <th>195</th>\n      <td>2022-08-16 18:27:38.422804</td>\n      <td>822689</td>\n    </tr>\n    <tr>\n      <th>196</th>\n      <td>2022-08-16 18:27:38.422804</td>\n      <td>822690</td>\n    </tr>\n    <tr>\n      <th>197</th>\n      <td>2022-08-16 18:27:38.422804</td>\n      <td>822691</td>\n    </tr>\n    <tr>\n      <th>198</th>\n      <td>2022-08-16 18:27:38.422804</td>\n      <td>822692</td>\n    </tr>\n    <tr>\n      <th>199</th>\n      <td>2022-08-16 18:27:38.422804</td>\n      <td>822693</td>\n    </tr>\n  </tbody>\n</table>\n<p>200 rows × 2 columns</p>\n</div>"
     },
     "execution_count": 3,
     "metadata": {},
     "output_type": "execute_result"
    }
   ],
   "source": [
    "import pandas as pd\n",
    "\n",
    "df = pd.read_parquet(path=\"data/students.parquet\")\n",
    "df"
   ],
   "metadata": {
    "collapsed": false,
    "pycharm": {
     "name": "#%%\n"
    }
   }
  },
  {
   "cell_type": "code",
   "execution_count": 1,
   "outputs": [
    {
     "data": {
      "text/plain": "              event_timestamp          created_timestamp  student  semester  \\\n0  2022-08-13 18:27:38.422804 2022-08-14 18:27:38.422804   822594         9   \n1  2022-08-13 18:27:38.422804 2022-08-14 18:27:38.422804   822595         5   \n2  2022-08-13 18:27:38.422804 2022-08-14 18:27:38.422804   822596         2   \n3  2022-08-13 18:27:38.422804 2022-08-14 18:27:38.422804   822597         6   \n4  2022-08-13 18:27:38.422804 2022-08-14 18:27:38.422804   822598         3   \n..                        ...                        ...      ...       ...   \n95 2022-08-13 18:27:38.422804 2022-08-14 18:27:38.422804   822689         2   \n96 2022-08-13 18:27:38.422804 2022-08-14 18:27:38.422804   822690         5   \n97 2022-08-13 18:27:38.422804 2022-08-14 18:27:38.422804   822691         2   \n98 2022-08-13 18:27:38.422804 2022-08-14 18:27:38.422804   822692         5   \n99 2022-08-13 18:27:38.422804 2022-08-14 18:27:38.422804   822693         7   \n\n    is_done  \n0      True  \n1     False  \n2     False  \n3      True  \n4     False  \n..      ...  \n95    False  \n96    False  \n97    False  \n98    False  \n99    False  \n\n[100 rows x 5 columns]",
      "text/html": "<div>\n<style scoped>\n    .dataframe tbody tr th:only-of-type {\n        vertical-align: middle;\n    }\n\n    .dataframe tbody tr th {\n        vertical-align: top;\n    }\n\n    .dataframe thead th {\n        text-align: right;\n    }\n</style>\n<table border=\"1\" class=\"dataframe\">\n  <thead>\n    <tr style=\"text-align: right;\">\n      <th></th>\n      <th>event_timestamp</th>\n      <th>created_timestamp</th>\n      <th>student</th>\n      <th>semester</th>\n      <th>is_done</th>\n    </tr>\n  </thead>\n  <tbody>\n    <tr>\n      <th>0</th>\n      <td>2022-08-13 18:27:38.422804</td>\n      <td>2022-08-14 18:27:38.422804</td>\n      <td>822594</td>\n      <td>9</td>\n      <td>True</td>\n    </tr>\n    <tr>\n      <th>1</th>\n      <td>2022-08-13 18:27:38.422804</td>\n      <td>2022-08-14 18:27:38.422804</td>\n      <td>822595</td>\n      <td>5</td>\n      <td>False</td>\n    </tr>\n    <tr>\n      <th>2</th>\n      <td>2022-08-13 18:27:38.422804</td>\n      <td>2022-08-14 18:27:38.422804</td>\n      <td>822596</td>\n      <td>2</td>\n      <td>False</td>\n    </tr>\n    <tr>\n      <th>3</th>\n      <td>2022-08-13 18:27:38.422804</td>\n      <td>2022-08-14 18:27:38.422804</td>\n      <td>822597</td>\n      <td>6</td>\n      <td>True</td>\n    </tr>\n    <tr>\n      <th>4</th>\n      <td>2022-08-13 18:27:38.422804</td>\n      <td>2022-08-14 18:27:38.422804</td>\n      <td>822598</td>\n      <td>3</td>\n      <td>False</td>\n    </tr>\n    <tr>\n      <th>...</th>\n      <td>...</td>\n      <td>...</td>\n      <td>...</td>\n      <td>...</td>\n      <td>...</td>\n    </tr>\n    <tr>\n      <th>95</th>\n      <td>2022-08-13 18:27:38.422804</td>\n      <td>2022-08-14 18:27:38.422804</td>\n      <td>822689</td>\n      <td>2</td>\n      <td>False</td>\n    </tr>\n    <tr>\n      <th>96</th>\n      <td>2022-08-13 18:27:38.422804</td>\n      <td>2022-08-14 18:27:38.422804</td>\n      <td>822690</td>\n      <td>5</td>\n      <td>False</td>\n    </tr>\n    <tr>\n      <th>97</th>\n      <td>2022-08-13 18:27:38.422804</td>\n      <td>2022-08-14 18:27:38.422804</td>\n      <td>822691</td>\n      <td>2</td>\n      <td>False</td>\n    </tr>\n    <tr>\n      <th>98</th>\n      <td>2022-08-13 18:27:38.422804</td>\n      <td>2022-08-14 18:27:38.422804</td>\n      <td>822692</td>\n      <td>5</td>\n      <td>False</td>\n    </tr>\n    <tr>\n      <th>99</th>\n      <td>2022-08-13 18:27:38.422804</td>\n      <td>2022-08-14 18:27:38.422804</td>\n      <td>822693</td>\n      <td>7</td>\n      <td>False</td>\n    </tr>\n  </tbody>\n</table>\n<p>100 rows × 5 columns</p>\n</div>"
     },
     "execution_count": 1,
     "metadata": {},
     "output_type": "execute_result"
    }
   ],
   "source": [
    "import pandas as pd\n",
    "\n",
    "df = pd.read_parquet(path=\"data/semester.parquet\")\n",
    "df"
   ],
   "metadata": {
    "collapsed": false,
    "pycharm": {
     "name": "#%%\n"
    }
   }
  },
  {
   "cell_type": "code",
   "execution_count": 2,
   "outputs": [
    {
     "data": {
      "text/plain": "              event_timestamp          created_timestamp  student  credits\n0  2022-08-13 18:27:38.422804 2022-08-14 18:27:38.422804   822594      104\n1  2022-08-13 18:27:38.422804 2022-08-14 18:27:38.422804   822595       57\n2  2022-08-13 18:27:38.422804 2022-08-14 18:27:38.422804   822596       51\n3  2022-08-13 18:27:38.422804 2022-08-14 18:27:38.422804   822597      100\n4  2022-08-13 18:27:38.422804 2022-08-14 18:27:38.422804   822598       65\n..                        ...                        ...      ...      ...\n95 2022-08-13 18:27:38.422804 2022-08-14 18:27:38.422804   822689        9\n96 2022-08-13 18:27:38.422804 2022-08-14 18:27:38.422804   822690       12\n97 2022-08-13 18:27:38.422804 2022-08-14 18:27:38.422804   822691        2\n98 2022-08-13 18:27:38.422804 2022-08-14 18:27:38.422804   822692       20\n99 2022-08-13 18:27:38.422804 2022-08-14 18:27:38.422804   822693       85\n\n[100 rows x 4 columns]",
      "text/html": "<div>\n<style scoped>\n    .dataframe tbody tr th:only-of-type {\n        vertical-align: middle;\n    }\n\n    .dataframe tbody tr th {\n        vertical-align: top;\n    }\n\n    .dataframe thead th {\n        text-align: right;\n    }\n</style>\n<table border=\"1\" class=\"dataframe\">\n  <thead>\n    <tr style=\"text-align: right;\">\n      <th></th>\n      <th>event_timestamp</th>\n      <th>created_timestamp</th>\n      <th>student</th>\n      <th>credits</th>\n    </tr>\n  </thead>\n  <tbody>\n    <tr>\n      <th>0</th>\n      <td>2022-08-13 18:27:38.422804</td>\n      <td>2022-08-14 18:27:38.422804</td>\n      <td>822594</td>\n      <td>104</td>\n    </tr>\n    <tr>\n      <th>1</th>\n      <td>2022-08-13 18:27:38.422804</td>\n      <td>2022-08-14 18:27:38.422804</td>\n      <td>822595</td>\n      <td>57</td>\n    </tr>\n    <tr>\n      <th>2</th>\n      <td>2022-08-13 18:27:38.422804</td>\n      <td>2022-08-14 18:27:38.422804</td>\n      <td>822596</td>\n      <td>51</td>\n    </tr>\n    <tr>\n      <th>3</th>\n      <td>2022-08-13 18:27:38.422804</td>\n      <td>2022-08-14 18:27:38.422804</td>\n      <td>822597</td>\n      <td>100</td>\n    </tr>\n    <tr>\n      <th>4</th>\n      <td>2022-08-13 18:27:38.422804</td>\n      <td>2022-08-14 18:27:38.422804</td>\n      <td>822598</td>\n      <td>65</td>\n    </tr>\n    <tr>\n      <th>...</th>\n      <td>...</td>\n      <td>...</td>\n      <td>...</td>\n      <td>...</td>\n    </tr>\n    <tr>\n      <th>95</th>\n      <td>2022-08-13 18:27:38.422804</td>\n      <td>2022-08-14 18:27:38.422804</td>\n      <td>822689</td>\n      <td>9</td>\n    </tr>\n    <tr>\n      <th>96</th>\n      <td>2022-08-13 18:27:38.422804</td>\n      <td>2022-08-14 18:27:38.422804</td>\n      <td>822690</td>\n      <td>12</td>\n    </tr>\n    <tr>\n      <th>97</th>\n      <td>2022-08-13 18:27:38.422804</td>\n      <td>2022-08-14 18:27:38.422804</td>\n      <td>822691</td>\n      <td>2</td>\n    </tr>\n    <tr>\n      <th>98</th>\n      <td>2022-08-13 18:27:38.422804</td>\n      <td>2022-08-14 18:27:38.422804</td>\n      <td>822692</td>\n      <td>20</td>\n    </tr>\n    <tr>\n      <th>99</th>\n      <td>2022-08-13 18:27:38.422804</td>\n      <td>2022-08-14 18:27:38.422804</td>\n      <td>822693</td>\n      <td>85</td>\n    </tr>\n  </tbody>\n</table>\n<p>100 rows × 4 columns</p>\n</div>"
     },
     "execution_count": 2,
     "metadata": {},
     "output_type": "execute_result"
    }
   ],
   "source": [
    "import pandas as pd\n",
    "\n",
    "df = pd.read_parquet(path=\"data/credits.parquet\")\n",
    "df"
   ],
   "metadata": {
    "collapsed": false,
    "pycharm": {
     "name": "#%%\n"
    }
   }
  }
 ],
 "metadata": {
  "kernelspec": {
   "display_name": "Python 3",
   "language": "python",
   "name": "python3"
  },
  "language_info": {
   "codemirror_mode": {
    "name": "ipython",
    "version": 2
   },
   "file_extension": ".py",
   "mimetype": "text/x-python",
   "name": "python",
   "nbconvert_exporter": "python",
   "pygments_lexer": "ipython2",
   "version": "2.7.6"
  }
 },
 "nbformat": 4,
 "nbformat_minor": 0
}