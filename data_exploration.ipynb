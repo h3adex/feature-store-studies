{
 "cells": [
  {
   "cell_type": "code",
   "execution_count": 1,
   "metadata": {
    "pycharm": {
     "name": "#%%\n"
    }
   },
   "outputs": [
    {
     "data": {
      "text/plain": "               event_timestamp  student\n0   2022-08-15 16:00:41.047115   822594\n1   2022-08-15 16:00:41.047115   822595\n2   2022-08-15 16:00:41.047115   822596\n3   2022-08-15 16:00:41.047115   822597\n4   2022-08-15 16:00:41.047115   822598\n..                         ...      ...\n195 2022-08-17 16:00:41.047115   822689\n196 2022-08-17 16:00:41.047115   822690\n197 2022-08-17 16:00:41.047115   822691\n198 2022-08-17 16:00:41.047115   822692\n199 2022-08-17 16:00:41.047115   822693\n\n[200 rows x 2 columns]",
      "text/html": "<div>\n<style scoped>\n    .dataframe tbody tr th:only-of-type {\n        vertical-align: middle;\n    }\n\n    .dataframe tbody tr th {\n        vertical-align: top;\n    }\n\n    .dataframe thead th {\n        text-align: right;\n    }\n</style>\n<table border=\"1\" class=\"dataframe\">\n  <thead>\n    <tr style=\"text-align: right;\">\n      <th></th>\n      <th>event_timestamp</th>\n      <th>student</th>\n    </tr>\n  </thead>\n  <tbody>\n    <tr>\n      <th>0</th>\n      <td>2022-08-15 16:00:41.047115</td>\n      <td>822594</td>\n    </tr>\n    <tr>\n      <th>1</th>\n      <td>2022-08-15 16:00:41.047115</td>\n      <td>822595</td>\n    </tr>\n    <tr>\n      <th>2</th>\n      <td>2022-08-15 16:00:41.047115</td>\n      <td>822596</td>\n    </tr>\n    <tr>\n      <th>3</th>\n      <td>2022-08-15 16:00:41.047115</td>\n      <td>822597</td>\n    </tr>\n    <tr>\n      <th>4</th>\n      <td>2022-08-15 16:00:41.047115</td>\n      <td>822598</td>\n    </tr>\n    <tr>\n      <th>...</th>\n      <td>...</td>\n      <td>...</td>\n    </tr>\n    <tr>\n      <th>195</th>\n      <td>2022-08-17 16:00:41.047115</td>\n      <td>822689</td>\n    </tr>\n    <tr>\n      <th>196</th>\n      <td>2022-08-17 16:00:41.047115</td>\n      <td>822690</td>\n    </tr>\n    <tr>\n      <th>197</th>\n      <td>2022-08-17 16:00:41.047115</td>\n      <td>822691</td>\n    </tr>\n    <tr>\n      <th>198</th>\n      <td>2022-08-17 16:00:41.047115</td>\n      <td>822692</td>\n    </tr>\n    <tr>\n      <th>199</th>\n      <td>2022-08-17 16:00:41.047115</td>\n      <td>822693</td>\n    </tr>\n  </tbody>\n</table>\n<p>200 rows × 2 columns</p>\n</div>"
     },
     "execution_count": 1,
     "metadata": {},
     "output_type": "execute_result"
    }
   ],
   "source": [
    "import pandas as pd\n",
    "\n",
    "df = pd.read_parquet(path=\"data/students.parquet\")\n",
    "df"
   ]
  },
  {
   "cell_type": "code",
   "execution_count": 2,
   "metadata": {
    "pycharm": {
     "name": "#%%\n"
    }
   },
   "outputs": [
    {
     "data": {
      "text/plain": "              event_timestamp          created_timestamp  student  semester  \\\n0  2022-08-14 16:00:41.047115 2022-08-15 16:00:41.047115   822594         6   \n1  2022-08-14 16:00:41.047115 2022-08-15 16:00:41.047115   822595         1   \n2  2022-08-14 16:00:41.047115 2022-08-15 16:00:41.047115   822596         2   \n3  2022-08-14 16:00:41.047115 2022-08-15 16:00:41.047115   822597         8   \n4  2022-08-14 16:00:41.047115 2022-08-15 16:00:41.047115   822598         5   \n..                        ...                        ...      ...       ...   \n95 2022-08-14 16:00:41.047115 2022-08-15 16:00:41.047115   822689         2   \n96 2022-08-14 16:00:41.047115 2022-08-15 16:00:41.047115   822690         5   \n97 2022-08-14 16:00:41.047115 2022-08-15 16:00:41.047115   822691         2   \n98 2022-08-14 16:00:41.047115 2022-08-15 16:00:41.047115   822692         4   \n99 2022-08-14 16:00:41.047115 2022-08-15 16:00:41.047115   822693         8   \n\n    graduated  \n0        True  \n1       False  \n2       False  \n3        True  \n4       False  \n..        ...  \n95      False  \n96      False  \n97      False  \n98      False  \n99       True  \n\n[100 rows x 5 columns]",
      "text/html": "<div>\n<style scoped>\n    .dataframe tbody tr th:only-of-type {\n        vertical-align: middle;\n    }\n\n    .dataframe tbody tr th {\n        vertical-align: top;\n    }\n\n    .dataframe thead th {\n        text-align: right;\n    }\n</style>\n<table border=\"1\" class=\"dataframe\">\n  <thead>\n    <tr style=\"text-align: right;\">\n      <th></th>\n      <th>event_timestamp</th>\n      <th>created_timestamp</th>\n      <th>student</th>\n      <th>semester</th>\n      <th>graduated</th>\n    </tr>\n  </thead>\n  <tbody>\n    <tr>\n      <th>0</th>\n      <td>2022-08-14 16:00:41.047115</td>\n      <td>2022-08-15 16:00:41.047115</td>\n      <td>822594</td>\n      <td>6</td>\n      <td>True</td>\n    </tr>\n    <tr>\n      <th>1</th>\n      <td>2022-08-14 16:00:41.047115</td>\n      <td>2022-08-15 16:00:41.047115</td>\n      <td>822595</td>\n      <td>1</td>\n      <td>False</td>\n    </tr>\n    <tr>\n      <th>2</th>\n      <td>2022-08-14 16:00:41.047115</td>\n      <td>2022-08-15 16:00:41.047115</td>\n      <td>822596</td>\n      <td>2</td>\n      <td>False</td>\n    </tr>\n    <tr>\n      <th>3</th>\n      <td>2022-08-14 16:00:41.047115</td>\n      <td>2022-08-15 16:00:41.047115</td>\n      <td>822597</td>\n      <td>8</td>\n      <td>True</td>\n    </tr>\n    <tr>\n      <th>4</th>\n      <td>2022-08-14 16:00:41.047115</td>\n      <td>2022-08-15 16:00:41.047115</td>\n      <td>822598</td>\n      <td>5</td>\n      <td>False</td>\n    </tr>\n    <tr>\n      <th>...</th>\n      <td>...</td>\n      <td>...</td>\n      <td>...</td>\n      <td>...</td>\n      <td>...</td>\n    </tr>\n    <tr>\n      <th>95</th>\n      <td>2022-08-14 16:00:41.047115</td>\n      <td>2022-08-15 16:00:41.047115</td>\n      <td>822689</td>\n      <td>2</td>\n      <td>False</td>\n    </tr>\n    <tr>\n      <th>96</th>\n      <td>2022-08-14 16:00:41.047115</td>\n      <td>2022-08-15 16:00:41.047115</td>\n      <td>822690</td>\n      <td>5</td>\n      <td>False</td>\n    </tr>\n    <tr>\n      <th>97</th>\n      <td>2022-08-14 16:00:41.047115</td>\n      <td>2022-08-15 16:00:41.047115</td>\n      <td>822691</td>\n      <td>2</td>\n      <td>False</td>\n    </tr>\n    <tr>\n      <th>98</th>\n      <td>2022-08-14 16:00:41.047115</td>\n      <td>2022-08-15 16:00:41.047115</td>\n      <td>822692</td>\n      <td>4</td>\n      <td>False</td>\n    </tr>\n    <tr>\n      <th>99</th>\n      <td>2022-08-14 16:00:41.047115</td>\n      <td>2022-08-15 16:00:41.047115</td>\n      <td>822693</td>\n      <td>8</td>\n      <td>True</td>\n    </tr>\n  </tbody>\n</table>\n<p>100 rows × 5 columns</p>\n</div>"
     },
     "execution_count": 2,
     "metadata": {},
     "output_type": "execute_result"
    }
   ],
   "source": [
    "import pandas as pd\n",
    "\n",
    "df = pd.read_parquet(path=\"data/semester.parquet\")\n",
    "df"
   ]
  },
  {
   "cell_type": "code",
   "execution_count": 3,
   "metadata": {
    "pycharm": {
     "name": "#%%\n"
    }
   },
   "outputs": [
    {
     "data": {
      "text/plain": "              event_timestamp          created_timestamp  student  credits\n0  2022-08-14 16:00:41.047115 2022-08-15 16:00:41.047115   822594      100\n1  2022-08-14 16:00:41.047115 2022-08-15 16:00:41.047115   822595       57\n2  2022-08-14 16:00:41.047115 2022-08-15 16:00:41.047115   822596       54\n3  2022-08-14 16:00:41.047115 2022-08-15 16:00:41.047115   822597      120\n4  2022-08-14 16:00:41.047115 2022-08-15 16:00:41.047115   822598       47\n..                        ...                        ...      ...      ...\n95 2022-08-14 16:00:41.047115 2022-08-15 16:00:41.047115   822689        5\n96 2022-08-14 16:00:41.047115 2022-08-15 16:00:41.047115   822690       37\n97 2022-08-14 16:00:41.047115 2022-08-15 16:00:41.047115   822691       66\n98 2022-08-14 16:00:41.047115 2022-08-15 16:00:41.047115   822692        2\n99 2022-08-14 16:00:41.047115 2022-08-15 16:00:41.047115   822693      114\n\n[100 rows x 4 columns]",
      "text/html": "<div>\n<style scoped>\n    .dataframe tbody tr th:only-of-type {\n        vertical-align: middle;\n    }\n\n    .dataframe tbody tr th {\n        vertical-align: top;\n    }\n\n    .dataframe thead th {\n        text-align: right;\n    }\n</style>\n<table border=\"1\" class=\"dataframe\">\n  <thead>\n    <tr style=\"text-align: right;\">\n      <th></th>\n      <th>event_timestamp</th>\n      <th>created_timestamp</th>\n      <th>student</th>\n      <th>credits</th>\n    </tr>\n  </thead>\n  <tbody>\n    <tr>\n      <th>0</th>\n      <td>2022-08-14 16:00:41.047115</td>\n      <td>2022-08-15 16:00:41.047115</td>\n      <td>822594</td>\n      <td>100</td>\n    </tr>\n    <tr>\n      <th>1</th>\n      <td>2022-08-14 16:00:41.047115</td>\n      <td>2022-08-15 16:00:41.047115</td>\n      <td>822595</td>\n      <td>57</td>\n    </tr>\n    <tr>\n      <th>2</th>\n      <td>2022-08-14 16:00:41.047115</td>\n      <td>2022-08-15 16:00:41.047115</td>\n      <td>822596</td>\n      <td>54</td>\n    </tr>\n    <tr>\n      <th>3</th>\n      <td>2022-08-14 16:00:41.047115</td>\n      <td>2022-08-15 16:00:41.047115</td>\n      <td>822597</td>\n      <td>120</td>\n    </tr>\n    <tr>\n      <th>4</th>\n      <td>2022-08-14 16:00:41.047115</td>\n      <td>2022-08-15 16:00:41.047115</td>\n      <td>822598</td>\n      <td>47</td>\n    </tr>\n    <tr>\n      <th>...</th>\n      <td>...</td>\n      <td>...</td>\n      <td>...</td>\n      <td>...</td>\n    </tr>\n    <tr>\n      <th>95</th>\n      <td>2022-08-14 16:00:41.047115</td>\n      <td>2022-08-15 16:00:41.047115</td>\n      <td>822689</td>\n      <td>5</td>\n    </tr>\n    <tr>\n      <th>96</th>\n      <td>2022-08-14 16:00:41.047115</td>\n      <td>2022-08-15 16:00:41.047115</td>\n      <td>822690</td>\n      <td>37</td>\n    </tr>\n    <tr>\n      <th>97</th>\n      <td>2022-08-14 16:00:41.047115</td>\n      <td>2022-08-15 16:00:41.047115</td>\n      <td>822691</td>\n      <td>66</td>\n    </tr>\n    <tr>\n      <th>98</th>\n      <td>2022-08-14 16:00:41.047115</td>\n      <td>2022-08-15 16:00:41.047115</td>\n      <td>822692</td>\n      <td>2</td>\n    </tr>\n    <tr>\n      <th>99</th>\n      <td>2022-08-14 16:00:41.047115</td>\n      <td>2022-08-15 16:00:41.047115</td>\n      <td>822693</td>\n      <td>114</td>\n    </tr>\n  </tbody>\n</table>\n<p>100 rows × 4 columns</p>\n</div>"
     },
     "execution_count": 3,
     "metadata": {},
     "output_type": "execute_result"
    }
   ],
   "source": [
    "import pandas as pd\n",
    "\n",
    "df = pd.read_parquet(path=\"data/credits.parquet\")\n",
    "df"
   ]
  }
 ],
 "metadata": {
  "kernelspec": {
   "display_name": "Python 3 (ipykernel)",
   "language": "python",
   "name": "python3"
  },
  "language_info": {
   "codemirror_mode": {
    "name": "ipython",
    "version": 3
   },
   "file_extension": ".py",
   "mimetype": "text/x-python",
   "name": "python",
   "nbconvert_exporter": "python",
   "pygments_lexer": "ipython3",
   "version": "3.10.4"
  }
 },
 "nbformat": 4,
 "nbformat_minor": 1
}